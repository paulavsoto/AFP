{
 "cells": [
  {
   "cell_type": "code",
   "execution_count": 1,
   "id": "85eadf36",
   "metadata": {},
   "outputs": [],
   "source": [
    "import pandas as pd\n",
    "import statsmodels.api as sm"
   ]
  },
  {
   "cell_type": "code",
   "execution_count": 2,
   "id": "9f7620dd",
   "metadata": {},
   "outputs": [
    {
     "data": {
      "text/html": [
       "<div>\n",
       "<style scoped>\n",
       "    .dataframe tbody tr th:only-of-type {\n",
       "        vertical-align: middle;\n",
       "    }\n",
       "\n",
       "    .dataframe tbody tr th {\n",
       "        vertical-align: top;\n",
       "    }\n",
       "\n",
       "    .dataframe thead th {\n",
       "        text-align: right;\n",
       "    }\n",
       "</style>\n",
       "<table border=\"1\" class=\"dataframe\">\n",
       "  <thead>\n",
       "    <tr style=\"text-align: right;\">\n",
       "      <th></th>\n",
       "      <th>red solidos</th>\n",
       "      <th>red oxigeno</th>\n",
       "    </tr>\n",
       "  </thead>\n",
       "  <tbody>\n",
       "    <tr>\n",
       "      <th>0</th>\n",
       "      <td>4</td>\n",
       "      <td>22</td>\n",
       "    </tr>\n",
       "    <tr>\n",
       "      <th>1</th>\n",
       "      <td>5</td>\n",
       "      <td>23</td>\n",
       "    </tr>\n",
       "    <tr>\n",
       "      <th>2</th>\n",
       "      <td>6</td>\n",
       "      <td>24</td>\n",
       "    </tr>\n",
       "    <tr>\n",
       "      <th>3</th>\n",
       "      <td>7</td>\n",
       "      <td>25</td>\n",
       "    </tr>\n",
       "    <tr>\n",
       "      <th>4</th>\n",
       "      <td>8</td>\n",
       "      <td>26</td>\n",
       "    </tr>\n",
       "  </tbody>\n",
       "</table>\n",
       "</div>"
      ],
      "text/plain": [
       "   red solidos  red oxigeno\n",
       "0            4           22\n",
       "1            5           23\n",
       "2            6           24\n",
       "3            7           25\n",
       "4            8           26"
      ]
     },
     "execution_count": 2,
     "metadata": {},
     "output_type": "execute_result"
    }
   ],
   "source": [
    "df_Est = pd.read_excel('ejercicio de regresion_perf.xlsx')\n",
    "df_Est.head()"
   ]
  },
  {
   "cell_type": "code",
   "execution_count": null,
   "id": "692c1a6e",
   "metadata": {},
   "outputs": [],
   "source": [
    "# Supongamos que 'casen_2022' contiene las columnas 'ytrabajocor' (variable dependiente) y 'esc' (variable independiente),\n",
    "# y que puedes tener valores NaN en tus datos.\n",
    "\n",
    "# Eliminar filas con valores NaN\n",
    "casen_2022_clean = casen_2022_region.dropna(subset=['ytrabajocor', 'esc'])\n",
    "\n",
    "# Agregar una columna de constantes para el término constante en el modelo\n",
    "casen_2022_clean['constante'] = 1\n",
    "\n",
    "# Definir las variables dependiente e independiente\n",
    "y = casen_2022_clean['ytrabajocor']\n",
    "X = casen_2022_clean[['constante', 'esc']]  # Usar 'constante' como término constante\n",
    "\n",
    "# Ajustar el modelo de regresión lineal\n",
    "modelo = sm.OLS(y, X).fit()\n",
    "\n",
    "# Imprimir un resumen del modelo\n",
    "print(modelo.summary())"
   ]
  }
 ],
 "metadata": {
  "kernelspec": {
   "display_name": "Python 3 (ipykernel)",
   "language": "python",
   "name": "python3"
  },
  "language_info": {
   "codemirror_mode": {
    "name": "ipython",
    "version": 3
   },
   "file_extension": ".py",
   "mimetype": "text/x-python",
   "name": "python",
   "nbconvert_exporter": "python",
   "pygments_lexer": "ipython3",
   "version": "3.11.5"
  }
 },
 "nbformat": 4,
 "nbformat_minor": 5
}
